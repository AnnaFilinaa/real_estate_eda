{
 "cells": [
  {
   "cell_type": "code",
   "execution_count": 13,
   "id": "ede054ad-3ecf-4f28-b227-73f9b03d4f5e",
   "metadata": {
    "tags": []
   },
   "outputs": [],
   "source": [
    "import re\n",
    "import pandas as pd\n",
    "import numpy as np\n",
    "\n",
    "import matplotlib.pyplot as plt\n",
    "import seaborn as sns\n",
    "\n",
    "path = \"./datasets/_data.csv\"\n",
    "rent = pd.read_csv(path)"
   ]
  },
  {
   "cell_type": "code",
   "execution_count": 14,
   "id": "d17e891a-d96c-47c3-9327-e77a82ee8f17",
   "metadata": {
    "tags": []
   },
   "outputs": [
    {
     "data": {
      "text/plain": [
       "array(['Москва', 'Санкт-Петербург', 'Краснодарский край'], dtype=object)"
      ]
     },
     "execution_count": 14,
     "metadata": {},
     "output_type": "execute_result"
    }
   ],
   "source": [
    "# 'Адрес' – analys\n",
    "# Define 'City' column \n",
    "cities = rent['Адрес'].apply(lambda x: x.split(',')[0])\n",
    "cities.unique()"
   ]
  },
  {
   "cell_type": "code",
   "execution_count": 15,
   "id": "6a74a175-2e25-46d3-8f74-ca1303380740",
   "metadata": {
    "tags": []
   },
   "outputs": [
    {
     "data": {
      "text/plain": [
       "array(['Москва'], dtype=object)"
      ]
     },
     "execution_count": 15,
     "metadata": {},
     "output_type": "execute_result"
    }
   ],
   "source": [
    "# 'Адрес' – remove rows with 'Москва', 'Санкт-Петербург'\n",
    "rent.drop(rent[rent['Адрес'].str.startswith('Санкт-Петербург')].index, inplace = True)\n",
    "rent.drop(rent[rent['Адрес'].str.startswith('Краснодарский край')].index, inplace = True)\n",
    "cities = rent['Адрес'].apply(lambda x: x.split(',')[0])\n",
    "cities.unique()"
   ]
  },
  {
   "cell_type": "code",
   "execution_count": 16,
   "id": "a6d8733c-6a82-4828-9729-bd20bf8e68d3",
   "metadata": {},
   "outputs": [],
   "source": [
    "# 'ID  объявления'\n"
   ]
  },
  {
   "cell_type": "code",
   "execution_count": 17,
   "id": "72583a84-9896-416b-903f-7f2d572ec510",
   "metadata": {},
   "outputs": [],
   "source": [
    "# 'Количество комнат'"
   ]
  },
  {
   "cell_type": "code",
   "execution_count": 18,
   "id": "42459985-1d93-4739-843b-715ffcba6d4b",
   "metadata": {},
   "outputs": [
    {
     "data": {
      "text/plain": [
       "Index(['Unnamed: 0', 'ID  объявления', 'Количество комнат', 'Метро', 'Адрес',\n",
       "       'Площадь, м2', 'Дом', 'Парковка', 'Цена', 'Телефоны', 'Описание',\n",
       "       'Ремонт', 'Площадь комнат, м2', 'Балкон', 'Окна', 'Санузел',\n",
       "       'Можно с детьми/животными', 'Дополнительно', 'Название ЖК',\n",
       "       'Серия дома', 'Высота потолков, м', 'Лифт', 'Мусоропровод',\n",
       "       'Ссылка на объявление'],\n",
       "      dtype='object')"
      ]
     },
     "execution_count": 18,
     "metadata": {},
     "output_type": "execute_result"
    }
   ],
   "source": [
    "# 'Тип'\n",
    "rent.drop(['Тип'], axis=1, inplace=True)\n",
    "rent.columns"
   ]
  },
  {
   "cell_type": "code",
   "execution_count": 19,
   "id": "21abecd1-9e7e-4fb1-840f-a0fa3fa1b59f",
   "metadata": {},
   "outputs": [],
   "source": [
    "# 'Метро'\n"
   ]
  },
  {
   "cell_type": "code",
   "execution_count": 20,
   "id": "178cab31-7e28-4487-a960-cbdc2f1c3cc4",
   "metadata": {},
   "outputs": [],
   "source": [
    "# 'Площадь, м2'\n"
   ]
  },
  {
   "cell_type": "code",
   "execution_count": 51,
   "id": "32c01ae3-e766-4e72-aa91-3f3e8c7319be",
   "metadata": {},
   "outputs": [
    {
     "name": "stdout",
     "output_type": "stream",
     "text": [
      "['Монолитный' 'Монолитно-кирпичный' nan 'Панельный' 'Сталинский'\n",
      " 'Кирпичный' 'старый фонд' 'Блочный' 'Деревянный' 'Щитовой']\n",
      "Number of Nan in building_type:  2971\n",
      "\n",
      "Flat floor vals: [-1, 1, 2, 3, 4, 5, 6, 7, 8, 9, 10, 11, 12, 13, 14, 15, 16, 17, 18, 19, 20, 21, 22, 23, 24, 25, 26, 27, 28, 29, 30, 31, 32, 33, 34, 35, 36, 37, 38, 39, 40, 41, 42, 43, 45, 46, 47, 48, 49, 50, 52, 53, 54, 55, 57, 58, 59, 61, 65, 70, 71, 75, 85]\n",
      "\n",
      "Total floors: [1, 2, 3, 4, 5, 6, 7, 8, 9, 10, 11, 12, 13, 14, 15, 16, 17, 18, 19, 20, 21, 22, 23, 24, 25, 26, 27, 28, 29, 30, 31, 32, 33, 34, 35, 36, 37, 38, 39, 40, 41, 42, 43, 44, 45, 46, 47, 48, 49, 50, 51, 52, 53, 54, 55, 57, 58, 59, 60, 62, 65, 68, 72, 73, 75, 76, 77, 78, 80, 85, 86, 95, 116]\n"
     ]
    }
   ],
   "source": [
    "# 'Дом'\n",
    "def get_floor(row) :\n",
    "    result = {}\n",
    "    l = row['Дом'].split(',')\n",
    "    if len(l) == 0 : return result\n",
    "    floors = l[0].split('/')\n",
    "    result['floor_flat'] = floors[0]\n",
    "    result['floors_total']= floors[1]\n",
    "    if len(l) > 1 :\n",
    "        result['building_type'] = l[1][1:] # remove first space\n",
    "    return result\n",
    "\n",
    "\n",
    "floor_info = rent.apply(get_floor, axis=1, result_type='expand')\n",
    "floor_info['floor_flat'] = floor_info['floor_flat'].astype('Int64')\n",
    "floor_info['floors_total'] = floor_info['floors_total'].astype('Int64')\n",
    "print(floor_info['building_type'].unique())\n",
    "print(\"Number of Nan in building_type: \", floor_info['building_type'].isna().sum())  # 2971 – Nan values\n",
    "print(\"\\nFlat floor vals:\", sorted(floor_info['floor_flat'].unique()))    #range -1 to 85\n",
    "print(\"\\nTotal floors:\", sorted(floor_info['floors_total'].unique()))  #range 1 to 116"
   ]
  },
  {
   "cell_type": "code",
   "execution_count": null,
   "id": "07694ea4-1d70-4ac0-9fcd-c283d77660a7",
   "metadata": {},
   "outputs": [],
   "source": [
    "# 'Парковка'\n"
   ]
  },
  {
   "cell_type": "code",
   "execution_count": null,
   "id": "2b4311bd-9d22-4326-9794-43e82ab7246b",
   "metadata": {},
   "outputs": [],
   "source": [
    "# 'Цена'\n"
   ]
  },
  {
   "cell_type": "code",
   "execution_count": 7,
   "id": "64e66790-0690-40e8-96fd-3fbef709153a",
   "metadata": {},
   "outputs": [
    {
     "data": {
      "text/plain": [
       "Index(['Unnamed: 0', 'ID  объявления', 'Количество комнат', 'Метро', 'Адрес',\n",
       "       'Площадь, м2', 'Дом', 'Парковка', 'Цена', 'Описание', 'Ремонт',\n",
       "       'Площадь комнат, м2', 'Балкон', 'Окна', 'Санузел',\n",
       "       'Можно с детьми/животными', 'Дополнительно', 'Название ЖК',\n",
       "       'Серия дома', 'Высота потолков, м', 'Лифт', 'Мусоропровод'],\n",
       "      dtype='object')"
      ]
     },
     "execution_count": 7,
     "metadata": {},
     "output_type": "execute_result"
    }
   ],
   "source": [
    "# 'Телефоны'\n",
    "rent.drop(['Телефоны'], axis=1, inplace=True)\n",
    "rent.columns"
   ]
  },
  {
   "cell_type": "code",
   "execution_count": null,
   "id": "d3b21228-a0a3-49bc-9edc-55412e8f55c7",
   "metadata": {},
   "outputs": [],
   "source": [
    "# 'Описание'\n"
   ]
  },
  {
   "cell_type": "code",
   "execution_count": null,
   "id": "dd03820d-7674-4ee7-a3ff-29a497a7263b",
   "metadata": {},
   "outputs": [],
   "source": [
    "# 'Ремонт'\n"
   ]
  },
  {
   "cell_type": "code",
   "execution_count": null,
   "id": "056a59da-7e00-4c4c-8b74-d098222bcc47",
   "metadata": {},
   "outputs": [],
   "source": [
    "# 'Площадь комнат, м2'\n"
   ]
  },
  {
   "cell_type": "code",
   "execution_count": null,
   "id": "585408ae-9d45-4047-ab02-b555ce739fc0",
   "metadata": {},
   "outputs": [],
   "source": [
    "# 'Балкон'\n"
   ]
  },
  {
   "cell_type": "code",
   "execution_count": null,
   "id": "d054ee81-cf1e-4958-a09e-087c2ef56755",
   "metadata": {},
   "outputs": [],
   "source": [
    "# 'Окна'\n"
   ]
  },
  {
   "cell_type": "code",
   "execution_count": null,
   "id": "b4c971a2-8257-4355-aafb-8c38c6eb2d0c",
   "metadata": {},
   "outputs": [],
   "source": [
    "# 'Санузел'\n"
   ]
  },
  {
   "cell_type": "code",
   "execution_count": null,
   "id": "478c22a0-ad3f-48af-a520-8b5da1ffa54d",
   "metadata": {},
   "outputs": [],
   "source": [
    "# 'Можно с детьми/животными'\n"
   ]
  },
  {
   "cell_type": "code",
   "execution_count": 60,
   "id": "55f126ff-4a1c-4c73-bff3-942d9e17965e",
   "metadata": {},
   "outputs": [
    {
     "name": "stdout",
     "output_type": "stream",
     "text": [
      "Index(['Мебель в комнатах', 'Мебель на кухне', 'Ванна', 'Душевая кабина',\n",
      "       'Стиральная машина', 'Кондиционер', 'Посудомоечная машина', 'Телевизор',\n",
      "       'Холодильник', 'Интернет', 'Телефон'],\n",
      "      dtype='object')\n"
     ]
    },
    {
     "data": {
      "text/html": [
       "<div>\n",
       "<style scoped>\n",
       "    .dataframe tbody tr th:only-of-type {\n",
       "        vertical-align: middle;\n",
       "    }\n",
       "\n",
       "    .dataframe tbody tr th {\n",
       "        vertical-align: top;\n",
       "    }\n",
       "\n",
       "    .dataframe thead th {\n",
       "        text-align: right;\n",
       "    }\n",
       "</style>\n",
       "<table border=\"1\" class=\"dataframe\">\n",
       "  <thead>\n",
       "    <tr style=\"text-align: right;\">\n",
       "      <th></th>\n",
       "      <th>Мебель в комнатах</th>\n",
       "      <th>Мебель на кухне</th>\n",
       "      <th>Ванна</th>\n",
       "      <th>Душевая кабина</th>\n",
       "      <th>Стиральная машина</th>\n",
       "      <th>Кондиционер</th>\n",
       "      <th>Посудомоечная машина</th>\n",
       "      <th>Телевизор</th>\n",
       "      <th>Холодильник</th>\n",
       "      <th>Интернет</th>\n",
       "      <th>Телефон</th>\n",
       "    </tr>\n",
       "  </thead>\n",
       "  <tbody>\n",
       "    <tr>\n",
       "      <th>0</th>\n",
       "      <td>1</td>\n",
       "      <td>1</td>\n",
       "      <td>1</td>\n",
       "      <td>1</td>\n",
       "      <td>1</td>\n",
       "      <td>1</td>\n",
       "      <td>1</td>\n",
       "      <td>1</td>\n",
       "      <td>1</td>\n",
       "      <td>1</td>\n",
       "      <td>1</td>\n",
       "    </tr>\n",
       "    <tr>\n",
       "      <th>1</th>\n",
       "      <td>1</td>\n",
       "      <td>1</td>\n",
       "      <td>1</td>\n",
       "      <td>1</td>\n",
       "      <td>1</td>\n",
       "      <td>1</td>\n",
       "      <td>1</td>\n",
       "      <td>1</td>\n",
       "      <td>1</td>\n",
       "      <td>1</td>\n",
       "      <td>0</td>\n",
       "    </tr>\n",
       "    <tr>\n",
       "      <th>2</th>\n",
       "      <td>1</td>\n",
       "      <td>1</td>\n",
       "      <td>1</td>\n",
       "      <td>1</td>\n",
       "      <td>1</td>\n",
       "      <td>1</td>\n",
       "      <td>1</td>\n",
       "      <td>1</td>\n",
       "      <td>1</td>\n",
       "      <td>1</td>\n",
       "      <td>1</td>\n",
       "    </tr>\n",
       "    <tr>\n",
       "      <th>3</th>\n",
       "      <td>1</td>\n",
       "      <td>1</td>\n",
       "      <td>1</td>\n",
       "      <td>1</td>\n",
       "      <td>1</td>\n",
       "      <td>1</td>\n",
       "      <td>1</td>\n",
       "      <td>1</td>\n",
       "      <td>1</td>\n",
       "      <td>1</td>\n",
       "      <td>1</td>\n",
       "    </tr>\n",
       "    <tr>\n",
       "      <th>4</th>\n",
       "      <td>1</td>\n",
       "      <td>1</td>\n",
       "      <td>1</td>\n",
       "      <td>1</td>\n",
       "      <td>1</td>\n",
       "      <td>0</td>\n",
       "      <td>1</td>\n",
       "      <td>1</td>\n",
       "      <td>1</td>\n",
       "      <td>1</td>\n",
       "      <td>0</td>\n",
       "    </tr>\n",
       "    <tr>\n",
       "      <th>...</th>\n",
       "      <td>...</td>\n",
       "      <td>...</td>\n",
       "      <td>...</td>\n",
       "      <td>...</td>\n",
       "      <td>...</td>\n",
       "      <td>...</td>\n",
       "      <td>...</td>\n",
       "      <td>...</td>\n",
       "      <td>...</td>\n",
       "      <td>...</td>\n",
       "      <td>...</td>\n",
       "    </tr>\n",
       "    <tr>\n",
       "      <th>23363</th>\n",
       "      <td>1</td>\n",
       "      <td>1</td>\n",
       "      <td>1</td>\n",
       "      <td>0</td>\n",
       "      <td>1</td>\n",
       "      <td>1</td>\n",
       "      <td>0</td>\n",
       "      <td>0</td>\n",
       "      <td>1</td>\n",
       "      <td>1</td>\n",
       "      <td>0</td>\n",
       "    </tr>\n",
       "    <tr>\n",
       "      <th>23364</th>\n",
       "      <td>1</td>\n",
       "      <td>1</td>\n",
       "      <td>1</td>\n",
       "      <td>0</td>\n",
       "      <td>1</td>\n",
       "      <td>0</td>\n",
       "      <td>0</td>\n",
       "      <td>1</td>\n",
       "      <td>1</td>\n",
       "      <td>0</td>\n",
       "      <td>0</td>\n",
       "    </tr>\n",
       "    <tr>\n",
       "      <th>23365</th>\n",
       "      <td>0</td>\n",
       "      <td>1</td>\n",
       "      <td>0</td>\n",
       "      <td>1</td>\n",
       "      <td>1</td>\n",
       "      <td>1</td>\n",
       "      <td>0</td>\n",
       "      <td>0</td>\n",
       "      <td>1</td>\n",
       "      <td>1</td>\n",
       "      <td>0</td>\n",
       "    </tr>\n",
       "    <tr>\n",
       "      <th>23366</th>\n",
       "      <td>1</td>\n",
       "      <td>1</td>\n",
       "      <td>1</td>\n",
       "      <td>0</td>\n",
       "      <td>1</td>\n",
       "      <td>1</td>\n",
       "      <td>1</td>\n",
       "      <td>0</td>\n",
       "      <td>1</td>\n",
       "      <td>0</td>\n",
       "      <td>0</td>\n",
       "    </tr>\n",
       "    <tr>\n",
       "      <th>23367</th>\n",
       "      <td>1</td>\n",
       "      <td>1</td>\n",
       "      <td>1</td>\n",
       "      <td>0</td>\n",
       "      <td>1</td>\n",
       "      <td>1</td>\n",
       "      <td>1</td>\n",
       "      <td>1</td>\n",
       "      <td>1</td>\n",
       "      <td>1</td>\n",
       "      <td>0</td>\n",
       "    </tr>\n",
       "  </tbody>\n",
       "</table>\n",
       "<p>19737 rows × 11 columns</p>\n",
       "</div>"
      ],
      "text/plain": [
       "       Мебель в комнатах  Мебель на кухне  Ванна  Душевая кабина  \\\n",
       "0                      1                1      1               1   \n",
       "1                      1                1      1               1   \n",
       "2                      1                1      1               1   \n",
       "3                      1                1      1               1   \n",
       "4                      1                1      1               1   \n",
       "...                  ...              ...    ...             ...   \n",
       "23363                  1                1      1               0   \n",
       "23364                  1                1      1               0   \n",
       "23365                  0                1      0               1   \n",
       "23366                  1                1      1               0   \n",
       "23367                  1                1      1               0   \n",
       "\n",
       "       Стиральная машина  Кондиционер  Посудомоечная машина  Телевизор  \\\n",
       "0                      1            1                     1          1   \n",
       "1                      1            1                     1          1   \n",
       "2                      1            1                     1          1   \n",
       "3                      1            1                     1          1   \n",
       "4                      1            0                     1          1   \n",
       "...                  ...          ...                   ...        ...   \n",
       "23363                  1            1                     0          0   \n",
       "23364                  1            0                     0          1   \n",
       "23365                  1            1                     0          0   \n",
       "23366                  1            1                     1          0   \n",
       "23367                  1            1                     1          1   \n",
       "\n",
       "       Холодильник  Интернет  Телефон  \n",
       "0                1         1        1  \n",
       "1                1         1        0  \n",
       "2                1         1        1  \n",
       "3                1         1        1  \n",
       "4                1         1        0  \n",
       "...            ...       ...      ...  \n",
       "23363            1         1        0  \n",
       "23364            1         0        0  \n",
       "23365            1         1        0  \n",
       "23366            1         0        0  \n",
       "23367            1         1        0  \n",
       "\n",
       "[19737 rows x 11 columns]"
      ]
     },
     "execution_count": 60,
     "metadata": {},
     "output_type": "execute_result"
    }
   ],
   "source": [
    "# 'Дополнительно'\n",
    "\n",
    "def get_equp(row) :\n",
    "    result = {}\n",
    "    if type(row['Дополнительно']) != str : return result\n",
    "    l = row['Дополнительно'].split(',')\n",
    "    if len(l) == 0 : return result\n",
    "    for eq in l :\n",
    "        if eq[0] == ' ' : eq = eq[1:]\n",
    "        result[eq] = 1\n",
    "    return result\n",
    "\n",
    "\n",
    "additional = rent.apply(get_equp, axis=1, result_type='expand')\n",
    "for c in additional.columns :\n",
    "    additional[c] = additional[c].astype('Int64')\n",
    "additional = additional.fillna(0)\n",
    "print(additional.columns)\n",
    "additional"
   ]
  },
  {
   "cell_type": "code",
   "execution_count": null,
   "id": "03c988e9-71bd-4702-9f36-73c560af7485",
   "metadata": {},
   "outputs": [],
   "source": [
    "# 'Название ЖК'\n"
   ]
  },
  {
   "cell_type": "code",
   "execution_count": null,
   "id": "9a68b900-6b1c-4f4b-8221-3a31472be64f",
   "metadata": {},
   "outputs": [],
   "source": [
    "# 'Серия дома'\n"
   ]
  },
  {
   "cell_type": "code",
   "execution_count": null,
   "id": "be4d7be2-9603-4d6f-8823-f2e599985b27",
   "metadata": {},
   "outputs": [],
   "source": [
    "# 'Высота потолков, м'\n"
   ]
  },
  {
   "cell_type": "code",
   "execution_count": null,
   "id": "919a0964-7cb5-4c56-a7b4-cda3460f65c6",
   "metadata": {},
   "outputs": [],
   "source": [
    "# 'Лифт'\n"
   ]
  },
  {
   "cell_type": "code",
   "execution_count": null,
   "id": "ae6ed31f-8917-4bf5-87cd-17c60c33d101",
   "metadata": {},
   "outputs": [],
   "source": [
    "# 'Мусоропровод'\n"
   ]
  },
  {
   "cell_type": "code",
   "execution_count": 6,
   "id": "1d028716-99e0-42df-b99d-149b87b66ed7",
   "metadata": {},
   "outputs": [
    {
     "data": {
      "text/plain": [
       "Index(['Unnamed: 0', 'ID  объявления', 'Количество комнат', 'Метро', 'Адрес',\n",
       "       'Площадь, м2', 'Дом', 'Парковка', 'Цена', 'Телефоны', 'Описание',\n",
       "       'Ремонт', 'Площадь комнат, м2', 'Балкон', 'Окна', 'Санузел',\n",
       "       'Можно с детьми/животными', 'Дополнительно', 'Название ЖК',\n",
       "       'Серия дома', 'Высота потолков, м', 'Лифт', 'Мусоропровод'],\n",
       "      dtype='object')"
      ]
     },
     "execution_count": 6,
     "metadata": {},
     "output_type": "execute_result"
    }
   ],
   "source": [
    "# 'Ссылка на объявление'\n",
    "rent.drop(['Ссылка на объявление'], axis=1, inplace=True)\n",
    "rent.columns"
   ]
  },
  {
   "cell_type": "code",
   "execution_count": null,
   "id": "3741c84e-6936-4a68-8c1a-fd22294be1c5",
   "metadata": {},
   "outputs": [],
   "source": []
  }
 ],
 "metadata": {
  "kernelspec": {
   "display_name": "Python 3 (ipykernel)",
   "language": "python",
   "name": "python3"
  },
  "language_info": {
   "codemirror_mode": {
    "name": "ipython",
    "version": 3
   },
   "file_extension": ".py",
   "mimetype": "text/x-python",
   "name": "python",
   "nbconvert_exporter": "python",
   "pygments_lexer": "ipython3",
   "version": "3.10.9"
  }
 },
 "nbformat": 4,
 "nbformat_minor": 5
}
