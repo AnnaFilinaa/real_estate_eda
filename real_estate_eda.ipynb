{
 "cells": [
  {
   "cell_type": "code",
   "execution_count": 29,
   "id": "ede054ad-3ecf-4f28-b227-73f9b03d4f5e",
   "metadata": {
    "tags": []
   },
   "outputs": [],
   "source": [
    "import re\n",
    "import pandas as pd\n",
    "import numpy as np\n",
    "import matplotlib as mpl\n",
    "import matplotlib.pyplot as plt\n",
    "import seaborn as sns\n",
    "import requests"
   ]
  },
  {
   "cell_type": "code",
   "execution_count": 30,
   "id": "75cfc392",
   "metadata": {
    "tags": []
   },
   "outputs": [
    {
     "data": {
      "text/plain": [
       "Index(['Unnamed: 0', 'ID  объявления', 'Количество комнат', 'Тип', 'Метро',\n",
       "       'Адрес', 'Площадь, м2', 'Дом', 'Парковка', 'Цена', 'Телефоны',\n",
       "       'Описание', 'Ремонт', 'Площадь комнат, м2', 'Балкон', 'Окна', 'Санузел',\n",
       "       'Можно с детьми/животными', 'Дополнительно', 'Название ЖК',\n",
       "       'Серия дома', 'Высота потолков, м', 'Лифт', 'Мусоропровод',\n",
       "       'Ссылка на объявление'],\n",
       "      dtype='object')"
      ]
     },
     "execution_count": 30,
     "metadata": {},
     "output_type": "execute_result"
    }
   ],
   "source": [
    "\n",
    "import matplotlib.pyplot as plt\n",
    "import seaborn as sns\n",
    "\n",
    "path = \"./datasets/_data.csv\"\n",
    "rent = pd.read_csv(path)\n",
    "rent.columns"
   ]
  },
  {
   "cell_type": "code",
   "execution_count": 31,
   "id": "c9295584",
   "metadata": {
    "tags": []
   },
   "outputs": [],
   "source": [
    "# 'Unnamed: 0' – drop that column\n",
    "rent = rent.drop(labels ='Unnamed: 0', axis= 1)"
   ]
  },
  {
   "cell_type": "code",
   "execution_count": 32,
   "id": "1d028716-99e0-42df-b99d-149b87b66ed7",
   "metadata": {},
   "outputs": [],
   "source": [
    "# 'Ссылка на объявление'\n",
    "rent.drop(['Ссылка на объявление'], axis=1, inplace=True)"
   ]
  },
  {
   "cell_type": "code",
   "execution_count": 33,
   "id": "3de17af6-46a0-484d-acd9-df896d936f94",
   "metadata": {},
   "outputs": [],
   "source": [
    "# 'Тип'\n",
    "rent.drop(['Тип'], axis=1, inplace=True)"
   ]
  },
  {
   "cell_type": "code",
   "execution_count": 34,
   "id": "c90aea99-909e-4ee9-a92b-c4cf5819e4e8",
   "metadata": {
    "tags": []
   },
   "outputs": [],
   "source": [
    "# 'Телефоны'\n",
    "rent.drop(['Телефоны'], axis=1, inplace=True)"
   ]
  },
  {
   "cell_type": "code",
   "execution_count": 35,
   "id": "70fca4fa-cc14-457d-bd99-8d05551cee25",
   "metadata": {
    "tags": []
   },
   "outputs": [
    {
     "data": {
      "text/plain": [
       "Index(['ID  объявления', 'Количество комнат', 'Метро', 'Адрес', 'Площадь, м2',\n",
       "       'Дом', 'Парковка', 'Цена', 'Описание', 'Ремонт', 'Площадь комнат, м2',\n",
       "       'Балкон', 'Окна', 'Санузел', 'Можно с детьми/животными',\n",
       "       'Дополнительно', 'Название ЖК', 'Серия дома', 'Высота потолков, м',\n",
       "       'Лифт', 'Мусоропровод'],\n",
       "      dtype='object')"
      ]
     },
     "execution_count": 35,
     "metadata": {},
     "output_type": "execute_result"
    }
   ],
   "source": [
    "# After dropping several columns\n",
    "rent.columns"
   ]
  },
  {
   "cell_type": "code",
   "execution_count": 36,
   "id": "d17e891a-d96c-47c3-9327-e77a82ee8f17",
   "metadata": {
    "tags": []
   },
   "outputs": [
    {
     "data": {
      "text/plain": [
       "array(['Москва', 'Санкт-Петербург', 'Краснодарский край'], dtype=object)"
      ]
     },
     "execution_count": 36,
     "metadata": {},
     "output_type": "execute_result"
    }
   ],
   "source": [
    "# 'Адрес' – analys\n",
    "# Define 'City' column \n",
    "cities = rent['Адрес'].apply(lambda x: x.split(',')[0])\n",
    "cities.unique()"
   ]
  },
  {
   "cell_type": "code",
   "execution_count": 37,
   "id": "6a74a175-2e25-46d3-8f74-ca1303380740",
   "metadata": {
    "tags": []
   },
   "outputs": [
    {
     "data": {
      "text/plain": [
       "array(['Москва'], dtype=object)"
      ]
     },
     "execution_count": 37,
     "metadata": {},
     "output_type": "execute_result"
    }
   ],
   "source": [
    "# 'Адрес' – remove rows with 'Москва', 'Санкт-Петербург'\n",
    "rent.drop(rent[rent['Адрес'].str.startswith('Санкт-Петербург')].index, inplace = True)\n",
    "rent.drop(rent[rent['Адрес'].str.startswith('Краснодарский край')].index, inplace = True)\n",
    "cities = rent['Адрес'].apply(lambda x: x.split(',')[0])\n",
    "cities.unique()"
   ]
  },
  {
   "cell_type": "code",
   "execution_count": 38,
   "id": "4fbfe81a-e085-4d80-9e8c-326cab8e5012",
   "metadata": {
    "tags": []
   },
   "outputs": [
    {
     "name": "stdout",
     "output_type": "stream",
     "text": [
      "['Монолитный' 'Монолитно-кирпичный' nan 'Панельный' 'Сталинский'\n",
      " 'Кирпичный' 'старый фонд' 'Блочный' 'Деревянный' 'Щитовой']\n",
      "Number of Nan in building_type:  2971\n",
      "\n",
      "Flat floor vals: [-1, 1, 2, 3, 4, 5, 6, 7, 8, 9, 10, 11, 12, 13, 14, 15, 16, 17, 18, 19, 20, 21, 22, 23, 24, 25, 26, 27, 28, 29, 30, 31, 32, 33, 34, 35, 36, 37, 38, 39, 40, 41, 42, 43, 45, 46, 47, 48, 49, 50, 52, 53, 54, 55, 57, 58, 59, 61, 65, 70, 71, 75, 85]\n",
      "\n",
      "Total floors: [1, 2, 3, 4, 5, 6, 7, 8, 9, 10, 11, 12, 13, 14, 15, 16, 17, 18, 19, 20, 21, 22, 23, 24, 25, 26, 27, 28, 29, 30, 31, 32, 33, 34, 35, 36, 37, 38, 39, 40, 41, 42, 43, 44, 45, 46, 47, 48, 49, 50, 51, 52, 53, 54, 55, 57, 58, 59, 60, 62, 65, 68, 72, 73, 75, 76, 77, 78, 80, 85, 86, 95, 116]\n"
     ]
    }
   ],
   "source": [
    "# 'Дом'\n",
    "def get_floor(row) :\n",
    "    result = {}\n",
    "    l = row['Дом'].split(',')\n",
    "    if len(l) == 0 : return result\n",
    "    floors = l[0].split('/')\n",
    "    result['floor_flat'] = floors[0]\n",
    "    result['floors_total']= floors[1]\n",
    "    if len(l) > 1 :\n",
    "        result['building_type'] = l[1][1:] # remove first space\n",
    "    return result\n",
    "\n",
    "\n",
    "floor_info = rent.apply(get_floor, axis=1, result_type='expand')\n",
    "floor_info['floor_flat'] = floor_info['floor_flat'].astype('Int64')\n",
    "floor_info['floors_total'] = floor_info['floors_total'].astype('Int64')\n",
    "print(floor_info['building_type'].unique())\n",
    "print(\"Number of Nan in building_type: \", floor_info['building_type'].isna().sum())  # 2971 – Nan values\n",
    "print(\"\\nFlat floor vals:\", sorted(floor_info['floor_flat'].unique()))    #range -1 to 85\n",
    "print(\"\\nTotal floors:\", sorted(floor_info['floors_total'].unique()))  #range 1 to 116"
   ]
  },
  {
   "cell_type": "code",
   "execution_count": 39,
   "id": "01e0ed51-9412-4be1-8f2f-e8e32cfced6f",
   "metadata": {
    "tags": []
   },
   "outputs": [
    {
     "name": "stdout",
     "output_type": "stream",
     "text": [
      "Index(['Мебель в комнатах', 'Мебель на кухне', 'Ванна', 'Душевая кабина',\n",
      "       'Стиральная машина', 'Кондиционер', 'Посудомоечная машина', 'Телевизор',\n",
      "       'Холодильник', 'Интернет', 'Телефон'],\n",
      "      dtype='object')\n"
     ]
    },
    {
     "data": {
      "text/html": [
       "<div>\n",
       "<style scoped>\n",
       "    .dataframe tbody tr th:only-of-type {\n",
       "        vertical-align: middle;\n",
       "    }\n",
       "\n",
       "    .dataframe tbody tr th {\n",
       "        vertical-align: top;\n",
       "    }\n",
       "\n",
       "    .dataframe thead th {\n",
       "        text-align: right;\n",
       "    }\n",
       "</style>\n",
       "<table border=\"1\" class=\"dataframe\">\n",
       "  <thead>\n",
       "    <tr style=\"text-align: right;\">\n",
       "      <th></th>\n",
       "      <th>Мебель в комнатах</th>\n",
       "      <th>Мебель на кухне</th>\n",
       "      <th>Ванна</th>\n",
       "      <th>Душевая кабина</th>\n",
       "      <th>Стиральная машина</th>\n",
       "      <th>Кондиционер</th>\n",
       "      <th>Посудомоечная машина</th>\n",
       "      <th>Телевизор</th>\n",
       "      <th>Холодильник</th>\n",
       "      <th>Интернет</th>\n",
       "      <th>Телефон</th>\n",
       "    </tr>\n",
       "  </thead>\n",
       "  <tbody>\n",
       "    <tr>\n",
       "      <th>0</th>\n",
       "      <td>1</td>\n",
       "      <td>1</td>\n",
       "      <td>1</td>\n",
       "      <td>1</td>\n",
       "      <td>1</td>\n",
       "      <td>1</td>\n",
       "      <td>1</td>\n",
       "      <td>1</td>\n",
       "      <td>1</td>\n",
       "      <td>1</td>\n",
       "      <td>1</td>\n",
       "    </tr>\n",
       "    <tr>\n",
       "      <th>1</th>\n",
       "      <td>1</td>\n",
       "      <td>1</td>\n",
       "      <td>1</td>\n",
       "      <td>1</td>\n",
       "      <td>1</td>\n",
       "      <td>1</td>\n",
       "      <td>1</td>\n",
       "      <td>1</td>\n",
       "      <td>1</td>\n",
       "      <td>1</td>\n",
       "      <td>0</td>\n",
       "    </tr>\n",
       "    <tr>\n",
       "      <th>2</th>\n",
       "      <td>1</td>\n",
       "      <td>1</td>\n",
       "      <td>1</td>\n",
       "      <td>1</td>\n",
       "      <td>1</td>\n",
       "      <td>1</td>\n",
       "      <td>1</td>\n",
       "      <td>1</td>\n",
       "      <td>1</td>\n",
       "      <td>1</td>\n",
       "      <td>1</td>\n",
       "    </tr>\n",
       "    <tr>\n",
       "      <th>3</th>\n",
       "      <td>1</td>\n",
       "      <td>1</td>\n",
       "      <td>1</td>\n",
       "      <td>1</td>\n",
       "      <td>1</td>\n",
       "      <td>1</td>\n",
       "      <td>1</td>\n",
       "      <td>1</td>\n",
       "      <td>1</td>\n",
       "      <td>1</td>\n",
       "      <td>1</td>\n",
       "    </tr>\n",
       "    <tr>\n",
       "      <th>4</th>\n",
       "      <td>1</td>\n",
       "      <td>1</td>\n",
       "      <td>1</td>\n",
       "      <td>1</td>\n",
       "      <td>1</td>\n",
       "      <td>0</td>\n",
       "      <td>1</td>\n",
       "      <td>1</td>\n",
       "      <td>1</td>\n",
       "      <td>1</td>\n",
       "      <td>0</td>\n",
       "    </tr>\n",
       "    <tr>\n",
       "      <th>...</th>\n",
       "      <td>...</td>\n",
       "      <td>...</td>\n",
       "      <td>...</td>\n",
       "      <td>...</td>\n",
       "      <td>...</td>\n",
       "      <td>...</td>\n",
       "      <td>...</td>\n",
       "      <td>...</td>\n",
       "      <td>...</td>\n",
       "      <td>...</td>\n",
       "      <td>...</td>\n",
       "    </tr>\n",
       "    <tr>\n",
       "      <th>23363</th>\n",
       "      <td>1</td>\n",
       "      <td>1</td>\n",
       "      <td>1</td>\n",
       "      <td>0</td>\n",
       "      <td>1</td>\n",
       "      <td>1</td>\n",
       "      <td>0</td>\n",
       "      <td>0</td>\n",
       "      <td>1</td>\n",
       "      <td>1</td>\n",
       "      <td>0</td>\n",
       "    </tr>\n",
       "    <tr>\n",
       "      <th>23364</th>\n",
       "      <td>1</td>\n",
       "      <td>1</td>\n",
       "      <td>1</td>\n",
       "      <td>0</td>\n",
       "      <td>1</td>\n",
       "      <td>0</td>\n",
       "      <td>0</td>\n",
       "      <td>1</td>\n",
       "      <td>1</td>\n",
       "      <td>0</td>\n",
       "      <td>0</td>\n",
       "    </tr>\n",
       "    <tr>\n",
       "      <th>23365</th>\n",
       "      <td>0</td>\n",
       "      <td>1</td>\n",
       "      <td>0</td>\n",
       "      <td>1</td>\n",
       "      <td>1</td>\n",
       "      <td>1</td>\n",
       "      <td>0</td>\n",
       "      <td>0</td>\n",
       "      <td>1</td>\n",
       "      <td>1</td>\n",
       "      <td>0</td>\n",
       "    </tr>\n",
       "    <tr>\n",
       "      <th>23366</th>\n",
       "      <td>1</td>\n",
       "      <td>1</td>\n",
       "      <td>1</td>\n",
       "      <td>0</td>\n",
       "      <td>1</td>\n",
       "      <td>1</td>\n",
       "      <td>1</td>\n",
       "      <td>0</td>\n",
       "      <td>1</td>\n",
       "      <td>0</td>\n",
       "      <td>0</td>\n",
       "    </tr>\n",
       "    <tr>\n",
       "      <th>23367</th>\n",
       "      <td>1</td>\n",
       "      <td>1</td>\n",
       "      <td>1</td>\n",
       "      <td>0</td>\n",
       "      <td>1</td>\n",
       "      <td>1</td>\n",
       "      <td>1</td>\n",
       "      <td>1</td>\n",
       "      <td>1</td>\n",
       "      <td>1</td>\n",
       "      <td>0</td>\n",
       "    </tr>\n",
       "  </tbody>\n",
       "</table>\n",
       "<p>19737 rows × 11 columns</p>\n",
       "</div>"
      ],
      "text/plain": [
       "       Мебель в комнатах  Мебель на кухне  Ванна  Душевая кабина  \\\n",
       "0                      1                1      1               1   \n",
       "1                      1                1      1               1   \n",
       "2                      1                1      1               1   \n",
       "3                      1                1      1               1   \n",
       "4                      1                1      1               1   \n",
       "...                  ...              ...    ...             ...   \n",
       "23363                  1                1      1               0   \n",
       "23364                  1                1      1               0   \n",
       "23365                  0                1      0               1   \n",
       "23366                  1                1      1               0   \n",
       "23367                  1                1      1               0   \n",
       "\n",
       "       Стиральная машина  Кондиционер  Посудомоечная машина  Телевизор  \\\n",
       "0                      1            1                     1          1   \n",
       "1                      1            1                     1          1   \n",
       "2                      1            1                     1          1   \n",
       "3                      1            1                     1          1   \n",
       "4                      1            0                     1          1   \n",
       "...                  ...          ...                   ...        ...   \n",
       "23363                  1            1                     0          0   \n",
       "23364                  1            0                     0          1   \n",
       "23365                  1            1                     0          0   \n",
       "23366                  1            1                     1          0   \n",
       "23367                  1            1                     1          1   \n",
       "\n",
       "       Холодильник  Интернет  Телефон  \n",
       "0                1         1        1  \n",
       "1                1         1        0  \n",
       "2                1         1        1  \n",
       "3                1         1        1  \n",
       "4                1         1        0  \n",
       "...            ...       ...      ...  \n",
       "23363            1         1        0  \n",
       "23364            1         0        0  \n",
       "23365            1         1        0  \n",
       "23366            1         0        0  \n",
       "23367            1         1        0  \n",
       "\n",
       "[19737 rows x 11 columns]"
      ]
     },
     "execution_count": 39,
     "metadata": {},
     "output_type": "execute_result"
    }
   ],
   "source": [
    "# 'Дополнительно'\n",
    "\n",
    "def get_equp(row) :\n",
    "    result = {}\n",
    "    if type(row['Дополнительно']) != str : return result\n",
    "    l = row['Дополнительно'].split(',')\n",
    "    if len(l) == 0 : return result\n",
    "    for eq in l :\n",
    "        if eq[0] == ' ' : eq = eq[1:]\n",
    "        result[eq] = 1\n",
    "    return result\n",
    "\n",
    "\n",
    "additional = rent.apply(get_equp, axis=1, result_type='expand')\n",
    "for c in additional.columns :\n",
    "    additional[c] = additional[c].astype('Int64')\n",
    "additional = additional.fillna(0)\n",
    "print(additional.columns)\n",
    "additional"
   ]
  },
  {
   "cell_type": "code",
   "execution_count": 40,
   "id": "eed67726-0cbd-4eb1-bf39-783190a1726e",
   "metadata": {},
   "outputs": [],
   "source": [
    "####################"
   ]
  },
  {
   "cell_type": "code",
   "execution_count": 41,
   "id": "b7ce601d-ed04-4a78-93b9-b3b7448f7e2c",
   "metadata": {
    "tags": []
   },
   "outputs": [],
   "source": [
    "# 'Балкон'\n",
    "# rent[['balcony', 'loggia']] = rent.Балкон.str.split(\",\", expand = True)\n",
    "\n",
    "# cou = 0\n",
    "# for i in rent['balcony']:\n",
    "#     new = str(i)\n",
    "#     cou = int(cou)\n",
    "#     if new[0] == 'Л':\n",
    "#         rent.iloc[cou,26] = rent.iloc[cou,25]\n",
    "#         rent.iloc[cou,25] = ''\n",
    "#     cou = cou + 1\n",
    "    \n",
    "# rent = rent.assign(balcony = lambda x: x['balcony'].str.extract('(\\d+)'))\n",
    "# rent = rent.assign(loggia = lambda x: x['loggia'].str.extract('(\\d+)'))\n",
    "# rent['balcony'] = rent['balcony'].fillna(0)\n",
    "# rent['loggia'] = rent['loggia'].fillna(0)"
   ]
  },
  {
   "cell_type": "code",
   "execution_count": null,
   "id": "08c0875d-d1a3-4c36-8c48-ee4658b76762",
   "metadata": {
    "tags": []
   },
   "outputs": [],
   "source": [
    "# 'Санузел'\n",
    "# rent[['sf1', 'sf2']] = rent.Санузел.str.split(\",\", expand = True)\n",
    "\n",
    "# cou = 0\n",
    "# for i in rent['sf1']:\n",
    "#     new = str(i)\n",
    "#     cou = int(cou)\n",
    "#     if new[0] == 'Р':\n",
    "#         rent.iloc[cou,30] = rent.iloc[cou,29]\n",
    "#         rent.iloc[cou,29] = ''\n",
    "#     cou = cou + 1\n",
    "    \n",
    "# rent = rent.assign(sf1 = lambda x: x['sf1'].str.extract('(\\d+)'))\n",
    "# rent = rent.assign(sf2 = lambda x: x['sf2'].str.extract('(\\d+)'))\n",
    "# rent['sf1'] = df['sf1'].fillna(0)\n",
    "# rent['sf2'] = df['sf2'].fillna(0)\n",
    "# rent = rent.astype({'sf1':'int'})\n",
    "# rent = rent.astype({'sf2':'int'})\n",
    "# rent['bathroom'] = rent['sf1'] + df['sf2'] \n",
    "# rent.drop(['sf1', 'sf2'], axis=1)"
   ]
  },
  {
   "cell_type": "code",
   "execution_count": null,
   "id": "7e0fdf1d-44c8-48ce-8485-49d6a5c582b0",
   "metadata": {
    "tags": []
   },
   "outputs": [],
   "source": [
    "# 'Лифт'\n",
    "# rent[['passenger_lift', 'service_lift']] = rent.Лифт.str.split(\",\", expand = True)\n",
    "\n",
    "# cou = 0\n",
    "# for i in rent['passenger_lift']:\n",
    "#     new = str(i)\n",
    "#     cou = int(cou)\n",
    "#     if new[0] == 'Г':\n",
    "#         rent.iloc[cou,28] = rent.iloc[cou,27]\n",
    "#         rent.iloc[cou,28] = ''\n",
    "#     cou = cou + 1\n",
    "    \n",
    "# rent = rent.assign(passenger_lift = lambda x: x['passenger_lift'].str.extract('(\\d+)'))\n",
    "# rent = rent.assign(service_lift = lambda x: x['service_lift'].str.extract('(\\d+)'))\n",
    "# rent['passenger_lift'] = rent['passenger_lift'].fillna(0)\n",
    "# rent['service_lift'] = rent['service_lift'].fillna(0)"
   ]
  },
  {
   "cell_type": "code",
   "execution_count": null,
   "id": "8f09d037-4f05-487a-bef9-b7e100c8495a",
   "metadata": {
    "tags": []
   },
   "outputs": [],
   "source": [
    "#######################"
   ]
  },
  {
   "attachments": {},
   "cell_type": "markdown",
   "id": "bbc9f67b-7085-4506-a2cc-93dd8ba6cfb1",
   "metadata": {
    "tags": []
   },
   "source": [
    "#### **Площадь, м2**\n",
    "##### Для дальнейшего анализа берем только общую площадь квартиры (первое число в данных колонки), так как неизвестно что обозначают остальные числа. Преобразоваем тип данных столбца во float и переименовываем колонку в **square_total**"
   ]
  },
  {
   "cell_type": "code",
   "execution_count": null,
   "id": "d7d4a5b6",
   "metadata": {},
   "outputs": [],
   "source": [
    "rent['Площадь, м2'] = rent['Площадь, м2'].str.split(pat='/', n = 1, expand = True)[0].astype('float')\n",
    "rent.rename(columns = {'Площадь, м2':'square_total'}, inplace = True)\n",
    "rent[0:2]"
   ]
  },
  {
   "attachments": {},
   "cell_type": "markdown",
   "id": "8408a543-e803-4c93-908d-a4e8b2559e1b",
   "metadata": {
    "tags": []
   },
   "source": [
    "#### **Парковка**\n",
    "##### Заменяем значения NaN на ‘Нет парковки’, так как в приведенных данных есть информация о наличии парковки, значит вариант с NaN является ее отсутствием.\n",
    "\n"
   ]
  },
  {
   "cell_type": "code",
   "execution_count": null,
   "id": "33d33926",
   "metadata": {},
   "outputs": [],
   "source": [
    "rent['Парковка'] = rent['Парковка'].fillna('нет парковки')\n",
    "rent.rename(columns = {'Парковка':'parking'}, inplace = True)\n",
    "rent[0:2]"
   ]
  },
  {
   "cell_type": "markdown",
   "id": "7032b5d9",
   "metadata": {},
   "source": [
    "#### **Цена**\n",
    "##### Из данного столбца выделяем дополнительные колонки с информацией: Плата за месяц, Объем залога, Включены ли коммунальные услуги, Срок аренды, Предоплата (кол-во месяцев)\n"
   ]
  },
  {
   "cell_type": "code",
   "execution_count": null,
   "id": "227a65e5",
   "metadata": {},
   "outputs": [],
   "source": []
  },
  {
   "cell_type": "markdown",
   "id": "ad6f97f2-8024-4c94-946b-77a40ea8d768",
   "metadata": {
    "tags": []
   },
   "source": [
    "#### **Ремонт**\n",
    "##### Данные NaN заполняем значениями “Без ремонта”, так как пропущено всего 2 755 значений, а это всего 11%."
   ]
  },
  {
   "cell_type": "code",
   "execution_count": null,
   "id": "0e4a36be",
   "metadata": {},
   "outputs": [],
   "source": [
    "rent['Ремонт'] = rent['Ремонт'].fillna('Без ремонта')\n",
    "rent.rename(columns = {'Ремонт':'renovation'}, inplace = True)\n",
    "rent[0:2]"
   ]
  },
  {
   "cell_type": "markdown",
   "id": "96b2146a-5dbc-4ab5-bc44-2af86d64939b",
   "metadata": {
    "tags": []
   },
   "source": [
    "#### **Окна**\n",
    "##### Так как невозможно определить на какую сторону выходят окна у квартиры, то значения NaN мы заполняем как ‘Нет данных”.\n"
   ]
  },
  {
   "cell_type": "code",
   "execution_count": null,
   "id": "2f9ce40d",
   "metadata": {},
   "outputs": [],
   "source": [
    "rent['Окна'] = rent['Окна'].fillna('Нет данных')\n",
    "rent.rename(columns = {'Окна':'windows'}, inplace = True)\n",
    "rent[0:2]"
   ]
  },
  {
   "cell_type": "markdown",
   "id": "2e2d3b28-28d1-478d-9657-6084d5311574",
   "metadata": {
    "tags": []
   },
   "source": [
    "#### **Можно с детьми/животными**\n",
    "##### Создаем столбцы pets_allowed и kids_allowed и проставляем значени 1 или 0 в зависимости от условий проживания. NaN значения будут равняться 0 в двух столбцах.\n"
   ]
  },
  {
   "cell_type": "code",
   "execution_count": null,
   "id": "5788bbab",
   "metadata": {},
   "outputs": [],
   "source": [
    "def get_allowed(row) :\n",
    "    result = {}\n",
    "    if type(row['Можно с детьми/животными']) != str : return result\n",
    "    l = row['Можно с детьми/животными'].split(',')\n",
    "    if len(l) == 0 : return result\n",
    "    for al in l :\n",
    "        if al[0] == ' ' : al = al[1:]\n",
    "        result[al] = 1\n",
    "    return result\n",
    "allowed = rent.apply(get_allowed, axis=1, result_type='expand')\n",
    "for c in allowed.columns :\n",
    "    allowed[c] = allowed[c].astype('Int64')\n",
    "allowed = allowed.fillna(0)\n",
    "rent[['kids_allowed','pets_allowed']] = allowed\n",
    "rent.drop('Можно с детьми/животными', axis=1, inplace=True)\n",
    "rent[0:2]"
   ]
  },
  {
   "cell_type": "code",
   "execution_count": null,
   "id": "0405ce07-3621-4ae8-9243-a9ba78c394bf",
   "metadata": {},
   "outputs": [],
   "source": [
    "#################"
   ]
  },
  {
   "cell_type": "markdown",
   "id": "718829b5-aa7d-48a7-adbe-541cf368c9e4",
   "metadata": {},
   "source": [
    "## Extract METRO"
   ]
  },
  {
   "cell_type": "code",
   "execution_count": 48,
   "id": "1f643168",
   "metadata": {},
   "outputs": [
    {
     "data": {
      "text/plain": [
       "0        м. Смоленская \n",
       "1        м. Смоленская \n",
       "2        м. Смоленская \n",
       "3        м. Смоленская \n",
       "4         м. Арбатская \n",
       "              ...      \n",
       "23363      м. Говорово \n",
       "23364      м. Солнцево \n",
       "23365      м. Солнцево \n",
       "23366      м. Солнцево \n",
       "23367      м. Говорово \n",
       "Name: Станция Метро, Length: 19737, dtype: object"
      ]
     },
     "execution_count": 48,
     "metadata": {},
     "output_type": "execute_result"
    }
   ],
   "source": [
    "# 'Метро'\n",
    "rent['Станция Метро'] = rent['Метро'].str.split('(').str[0]\n",
    "rent['Станция Метро']"
   ]
  },
  {
   "cell_type": "code",
   "execution_count": 49,
   "id": "7fbcd29d",
   "metadata": {},
   "outputs": [
    {
     "data": {
      "text/plain": [
       "0         9 мин пешком\n",
       "1         8 мин пешком\n",
       "2         7 мин пешком\n",
       "3         3 мин пешком\n",
       "4         7 мин пешком\n",
       "             ...      \n",
       "23363     8 мин пешком\n",
       "23364     7 мин пешком\n",
       "23365     6 мин пешком\n",
       "23366    11 мин пешком\n",
       "23367    10 мин пешком\n",
       "Name: Расстояние от метро, Length: 19737, dtype: object"
      ]
     },
     "execution_count": 49,
     "metadata": {},
     "output_type": "execute_result"
    }
   ],
   "source": [
    "rent['Расстояние от метро'] = rent['Метро'].str.split('(').str[1]\n",
    "rent['Расстояние от метро'] = rent['Расстояние от метро'].str[:-1]\n",
    "rent['Расстояние от метро']"
   ]
  },
  {
   "cell_type": "code",
   "execution_count": 50,
   "id": "5741b839",
   "metadata": {},
   "outputs": [],
   "source": [
    "rent['Станция Метро']=rent['Станция Метро'].str[3:-1]"
   ]
  },
  {
   "cell_type": "code",
   "execution_count": 51,
   "id": "0958126c",
   "metadata": {},
   "outputs": [
    {
     "data": {
      "text/html": [
       "<div>\n",
       "<style scoped>\n",
       "    .dataframe tbody tr th:only-of-type {\n",
       "        vertical-align: middle;\n",
       "    }\n",
       "\n",
       "    .dataframe tbody tr th {\n",
       "        vertical-align: top;\n",
       "    }\n",
       "\n",
       "    .dataframe thead th {\n",
       "        text-align: right;\n",
       "    }\n",
       "</style>\n",
       "<table border=\"1\" class=\"dataframe\">\n",
       "  <thead>\n",
       "    <tr style=\"text-align: right;\">\n",
       "      <th></th>\n",
       "      <th>Станция Метро</th>\n",
       "      <th>ID  объявления</th>\n",
       "    </tr>\n",
       "  </thead>\n",
       "  <tbody>\n",
       "    <tr>\n",
       "      <th>0</th>\n",
       "      <td>Авиамоторная</td>\n",
       "      <td>107</td>\n",
       "    </tr>\n",
       "    <tr>\n",
       "      <th>1</th>\n",
       "      <td>Автозаводская</td>\n",
       "      <td>57</td>\n",
       "    </tr>\n",
       "    <tr>\n",
       "      <th>2</th>\n",
       "      <td>Академическая</td>\n",
       "      <td>191</td>\n",
       "    </tr>\n",
       "    <tr>\n",
       "      <th>3</th>\n",
       "      <td>Александровский сад</td>\n",
       "      <td>3</td>\n",
       "    </tr>\n",
       "    <tr>\n",
       "      <th>4</th>\n",
       "      <td>Алексеевская</td>\n",
       "      <td>171</td>\n",
       "    </tr>\n",
       "    <tr>\n",
       "      <th>...</th>\n",
       "      <td>...</td>\n",
       "      <td>...</td>\n",
       "    </tr>\n",
       "    <tr>\n",
       "      <th>272</th>\n",
       "      <td>Юго-Западная</td>\n",
       "      <td>138</td>\n",
       "    </tr>\n",
       "    <tr>\n",
       "      <th>273</th>\n",
       "      <td>Южная</td>\n",
       "      <td>73</td>\n",
       "    </tr>\n",
       "    <tr>\n",
       "      <th>274</th>\n",
       "      <td>Ясенево</td>\n",
       "      <td>127</td>\n",
       "    </tr>\n",
       "    <tr>\n",
       "      <th>275</th>\n",
       "      <td>Яхромская</td>\n",
       "      <td>1</td>\n",
       "    </tr>\n",
       "    <tr>\n",
       "      <th>276</th>\n",
       "      <td>улица Народного ополчения</td>\n",
       "      <td>41</td>\n",
       "    </tr>\n",
       "  </tbody>\n",
       "</table>\n",
       "<p>277 rows × 2 columns</p>\n",
       "</div>"
      ],
      "text/plain": [
       "                 Станция Метро  ID  объявления\n",
       "0                 Авиамоторная             107\n",
       "1                Автозаводская              57\n",
       "2                Академическая             191\n",
       "3          Александровский сад               3\n",
       "4                 Алексеевская             171\n",
       "..                         ...             ...\n",
       "272               Юго-Западная             138\n",
       "273                      Южная              73\n",
       "274                    Ясенево             127\n",
       "275                  Яхромская               1\n",
       "276  улица Народного ополчения              41\n",
       "\n",
       "[277 rows x 2 columns]"
      ]
     },
     "execution_count": 51,
     "metadata": {},
     "output_type": "execute_result"
    }
   ],
   "source": [
    "rent.groupby('Станция Метро', as_index=False).agg({'ID  объявления': 'count'})"
   ]
  },
  {
   "cell_type": "code",
   "execution_count": null,
   "id": "dba2a980",
   "metadata": {},
   "outputs": [],
   "source": [
    "metroo = metro = pd.read_csv('../MetroAndDistrict/list_of_moscow_metro_stations.csv')\n",
    "metroo"
   ]
  },
  {
   "cell_type": "code",
   "execution_count": null,
   "id": "16418d4f",
   "metadata": {},
   "outputs": [],
   "source": [
    "metro = pd.read_json('../MetroAndDistrict/metro.msk.json')\n",
    "metro"
   ]
  },
  {
   "cell_type": "code",
   "execution_count": null,
   "id": "f82475ec",
   "metadata": {},
   "outputs": [],
   "source": [
    "metro2 = metro['stations'].apply(pd.Series)\n",
    "metro2"
   ]
  },
  {
   "cell_type": "code",
   "execution_count": null,
   "id": "3e15a479",
   "metadata": {},
   "outputs": [],
   "source": [
    "metro_metro = pd.DataFrame()\n",
    "x = 0\n",
    "while x < len(metro2.index):\n",
    "    pd.concat([metro_metro, metro2.loc[x].apply(pd.Series)], ignore_index=True)\n",
    "    x += 1\n",
    "metro_metro    "
   ]
  },
  {
   "cell_type": "code",
   "execution_count": null,
   "id": "6857a381",
   "metadata": {},
   "outputs": [],
   "source": [
    "metro_metro = pd.concat([metro_metro, metro2.loc[14].apply(pd.Series)], ignore_index=True)\n",
    "metro_metro"
   ]
  },
  {
   "cell_type": "code",
   "execution_count": null,
   "id": "93bbad51",
   "metadata": {},
   "outputs": [],
   "source": [
    "metro_metro= metro_metro.dropna(how='all')\n",
    "metro_metro"
   ]
  },
  {
   "cell_type": "code",
   "execution_count": null,
   "id": "d782d61d",
   "metadata": {},
   "outputs": [],
   "source": [
    "metro_metro = metro_metro.drop_duplicates(subset=['name'])\n",
    "metro_metro\n"
   ]
  },
  {
   "cell_type": "code",
   "execution_count": null,
   "id": "0c5a9a85",
   "metadata": {},
   "outputs": [],
   "source": [
    "metro_metro.sort_values(by='name')"
   ]
  },
  {
   "cell_type": "code",
   "execution_count": null,
   "id": "e6832780",
   "metadata": {},
   "outputs": [],
   "source": [
    "rent.groupby('Станция Метро', as_index=False).agg({'ID  объявления': 'count'})"
   ]
  },
  {
   "cell_type": "code",
   "execution_count": null,
   "id": "497cd0c4",
   "metadata": {},
   "outputs": [],
   "source": [
    "metro_metro = metro_metro.rename(columns={'name': 'Станция Метро'})\n",
    "metro_metro[['Станция Метро', 'admArea']].sort_values('Станция Метро')"
   ]
  },
  {
   "cell_type": "code",
   "execution_count": null,
   "id": "984bd62a",
   "metadata": {},
   "outputs": [],
   "source": [
    "#rent['Станция Метро'] = rent['Станция Метро'].str[2:]\n",
    "metros = rent.groupby('Станция Метро', as_index=False).agg({'ID  объявления': 'count'})\n",
    "#metros = metros.rename(columns={'Станция Метро': 'name'})\n",
    "metros\n",
    "#metros.merge(metro_metro[['name', 'admArea']].sort_values('name'), how='left')"
   ]
  },
  {
   "cell_type": "code",
   "execution_count": null,
   "id": "8335ffa4",
   "metadata": {},
   "outputs": [],
   "source": [
    "pd.merge(metros, metro_metro, on='Станция Метро')#.groupby('admArea', as_index=False).count()"
   ]
  },
  {
   "cell_type": "code",
   "execution_count": null,
   "id": "a4d29dff",
   "metadata": {},
   "outputs": [],
   "source": [
    "pd.merge(metros, metro_metro, left_on='Станция Метро', right_on ='Станция Метро', how='left')"
   ]
  },
  {
   "cell_type": "code",
   "execution_count": null,
   "id": "16aa31ba",
   "metadata": {},
   "outputs": [],
   "source": [
    "okrugs = pd.merge(rent, metro_metro, left_on='Станция Метро', right_on ='Станция Метро', how='left').groupby('admArea', as_index=False).agg({'ID  объявления': 'count'})\n",
    "fig, ax = plt.subplots()\n",
    "ax.pie(okrugs['ID  объявления'], labels=okrugs['admArea'])\n",
    "ax.get_legend().remove()"
   ]
  },
  {
   "cell_type": "code",
   "execution_count": null,
   "id": "f1c616cc",
   "metadata": {},
   "outputs": [],
   "source": [
    "rent.head()"
   ]
  },
  {
   "cell_type": "code",
   "execution_count": null,
   "id": "30d90574-ec4c-4015-af88-49039f39e845",
   "metadata": {},
   "outputs": [],
   "source": [
    "# 'Количество комнат'"
   ]
  },
  {
   "cell_type": "code",
   "execution_count": null,
   "id": "f3b4cbef",
   "metadata": {},
   "outputs": [],
   "source": [
    "rent['Число комнат'] = rent['Количество комнат'].str.split(',').str[0]\n",
    "rent"
   ]
  },
  {
   "cell_type": "code",
   "execution_count": null,
   "id": "2ca47de2",
   "metadata": {},
   "outputs": [],
   "source": [
    "rent['Число комнат'] = pd.to_numeric(rent['Число комнат'])"
   ]
  },
  {
   "cell_type": "code",
   "execution_count": null,
   "id": "49952574",
   "metadata": {},
   "outputs": [],
   "source": [
    "rent['Тип комнат'] = rent['Количество комнат'].str.split(',').str[1]\n",
    "rent"
   ]
  },
  {
   "cell_type": "code",
   "execution_count": null,
   "id": "8ccdedf8",
   "metadata": {},
   "outputs": [],
   "source": [
    "rent = pd.merge(rent, metro_metro[['Станция Метро', 'admArea']], on='Станция Метро', how='left')\n",
    "rent\n"
   ]
  },
  {
   "cell_type": "code",
   "execution_count": null,
   "id": "64038b91",
   "metadata": {},
   "outputs": [],
   "source": [
    "rent = rent.rename(columns={'admArea': 'Округ'})\n",
    "rent"
   ]
  },
  {
   "cell_type": "code",
   "execution_count": null,
   "id": "2b4311bd-9d22-4326-9794-43e82ab7246b",
   "metadata": {},
   "outputs": [],
   "source": [
    "# 'Цена'\n"
   ]
  },
  {
   "cell_type": "code",
   "execution_count": null,
   "id": "d3b21228-a0a3-49bc-9edc-55412e8f55c7",
   "metadata": {},
   "outputs": [],
   "source": [
    "# 'Описание'\n"
   ]
  },
  {
   "cell_type": "code",
   "execution_count": null,
   "id": "056a59da-7e00-4c4c-8b74-d098222bcc47",
   "metadata": {},
   "outputs": [],
   "source": [
    "# 'Площадь комнат, м2'\n"
   ]
  },
  {
   "cell_type": "code",
   "execution_count": null,
   "id": "03c988e9-71bd-4702-9f36-73c560af7485",
   "metadata": {},
   "outputs": [],
   "source": [
    "# 'Название ЖК'\n"
   ]
  },
  {
   "cell_type": "code",
   "execution_count": null,
   "id": "9a68b900-6b1c-4f4b-8221-3a31472be64f",
   "metadata": {},
   "outputs": [],
   "source": [
    "# 'Серия дома'\n"
   ]
  },
  {
   "cell_type": "code",
   "execution_count": null,
   "id": "be4d7be2-9603-4d6f-8823-f2e599985b27",
   "metadata": {},
   "outputs": [],
   "source": [
    "# 'Высота потолков, м'\n"
   ]
  },
  {
   "cell_type": "code",
   "execution_count": null,
   "id": "ae6ed31f-8917-4bf5-87cd-17c60c33d101",
   "metadata": {},
   "outputs": [],
   "source": [
    "# 'Мусоропровод'\n"
   ]
  }
 ],
 "metadata": {
  "kernelspec": {
   "display_name": "Python 3 (ipykernel)",
   "language": "python",
   "name": "python3"
  },
  "language_info": {
   "codemirror_mode": {
    "name": "ipython",
    "version": 3
   },
   "file_extension": ".py",
   "mimetype": "text/x-python",
   "name": "python",
   "nbconvert_exporter": "python",
   "pygments_lexer": "ipython3",
   "version": "3.8.2"
  }
 },
 "nbformat": 4,
 "nbformat_minor": 5
}
